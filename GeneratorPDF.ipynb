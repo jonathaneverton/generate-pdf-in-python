{
 "cells": [
  {
   "cell_type": "markdown",
   "id": "3da97ced-5197-47ed-8be0-2667ec01aa7e",
   "metadata": {},
   "source": [
    "# Generate a PDF using an image"
   ]
  },
  {
   "cell_type": "code",
   "execution_count": 1,
   "id": "e9b95677-989a-4a16-8949-f4a93a03d92c",
   "metadata": {},
   "outputs": [
    {
     "name": "stdin",
     "output_type": "stream",
     "text": [
      "Enter the name of the Project:  Project One\n",
      "Enthe the number of hours planned for the Project:  200\n",
      "Enter the value of the hour worked 12\n",
      "Enther the estimated deadline 4 days\n"
     ]
    },
    {
     "name": "stdout",
     "output_type": "stream",
     "text": [
      "The total value of the projetct is:  2400\n"
     ]
    }
   ],
   "source": [
    "project = input(\"Enter the name of the Project: \")\n",
    "hours = input(\"Enthe the number of hours planned for the Project: \")\n",
    "hour_worked = input(\"Enter the value of the hour worked\")\n",
    "deadline = input(\"Enther the estimated deadline\")\n",
    "total = int(hours) * int(hour_worked)\n",
    "print(\"The total value of the projetct is: \", total)"
   ]
  },
  {
   "cell_type": "markdown",
   "id": "815b3d5c-e36e-49a3-858e-024c91246c70",
   "metadata": {},
   "source": [
    "## Installing the PDF library\n",
    "pip install fpdf"
   ]
  },
  {
   "cell_type": "code",
   "execution_count": 3,
   "id": "0a64c279-d562-48f3-8e90-03569fb14377",
   "metadata": {},
   "outputs": [
    {
     "name": "stdout",
     "output_type": "stream",
     "text": [
      "PDF generated successfully!!!\n"
     ]
    }
   ],
   "source": [
    "# using the library\n",
    "from fpdf import FPDF\n",
    "\n",
    "pdf = FPDF()\n",
    "pdf.add_page()\n",
    "pdf.set_font(\"Arial\")\n",
    "pdf.image(\"template.png\", x=0, y=0)\n",
    "pdf.text(115, 145, project)\n",
    "pdf.text(115, 160, hours)\n",
    "pdf.text(115, 175, hour_worked)\n",
    "pdf.text(115, 190, deadline)\n",
    "pdf.text(115, 205, str(total))\n",
    "pdf.output(\"Budget.pdf\")\n",
    "print(\"PDF generated successfully!!!\")"
   ]
  }
 ],
 "metadata": {
  "kernelspec": {
   "display_name": "Python 3 (ipykernel)",
   "language": "python",
   "name": "python3"
  },
  "language_info": {
   "codemirror_mode": {
    "name": "ipython",
    "version": 3
   },
   "file_extension": ".py",
   "mimetype": "text/x-python",
   "name": "python",
   "nbconvert_exporter": "python",
   "pygments_lexer": "ipython3",
   "version": "3.12.1"
  }
 },
 "nbformat": 4,
 "nbformat_minor": 5
}
