{
 "cells": [
  {
   "cell_type": "markdown",
   "id": "3da97ced-5197-47ed-8be0-2667ec01aa7e",
   "metadata": {},
   "source": [
    "# Generate a PDF using an image"
   ]
  },
  {
   "cell_type": "code",
   "execution_count": 1,
   "id": "e9b95677-989a-4a16-8949-f4a93a03d92c",
   "metadata": {},
   "outputs": [
    {
     "name": "stdin",
     "output_type": "stream",
     "text": [
      "Enter the name of the Project:  Teste\n",
      "Enthe the number of hours planned for the Project:  200\n",
      "Enter the value of the hour worked 22\n",
      "Enther the estimated deadline 3\n"
     ]
    },
    {
     "name": "stdout",
     "output_type": "stream",
     "text": [
      "The total value of the projetct is:  4400\n"
     ]
    }
   ],
   "source": [
    "project = input(\"Enter the name of the Project: \")\n",
    "hours = input(\"Enthe the number of hours planned for the Project: \")\n",
    "hour_worked = input(\"Enter the value of the hour worked\")\n",
    "deadline = input(\"Enther the estimated deadline\")\n",
    "total = int(hours) * int(hour_worked)\n",
    "print(\"The total value of the projetct is: \", total)"
   ]
  },
  {
   "cell_type": "code",
   "execution_count": null,
   "id": "48fccc89-8226-4eef-bfd7-2ede263aa7ba",
   "metadata": {},
   "outputs": [],
   "source": []
  }
 ],
 "metadata": {
  "kernelspec": {
   "display_name": "Python 3 (ipykernel)",
   "language": "python",
   "name": "python3"
  },
  "language_info": {
   "codemirror_mode": {
    "name": "ipython",
    "version": 3
   },
   "file_extension": ".py",
   "mimetype": "text/x-python",
   "name": "python",
   "nbconvert_exporter": "python",
   "pygments_lexer": "ipython3",
   "version": "3.12.1"
  }
 },
 "nbformat": 4,
 "nbformat_minor": 5
}
