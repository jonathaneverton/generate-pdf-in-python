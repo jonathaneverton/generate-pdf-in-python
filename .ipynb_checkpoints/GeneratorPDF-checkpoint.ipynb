{
 "cells": [
  {
   "cell_type": "markdown",
   "id": "3da97ced-5197-47ed-8be0-2667ec01aa7e",
   "metadata": {},
   "source": [
    "# Generate a PDF using an image"
   ]
  },
  {
   "cell_type": "code",
   "execution_count": 1,
   "id": "e9b95677-989a-4a16-8949-f4a93a03d92c",
   "metadata": {},
   "outputs": [
    {
     "name": "stdin",
     "output_type": "stream",
     "text": [
      "Enter the name of the Project:  Teste\n",
      "Enthe the number of hours planned for the Project:  200\n",
      "Enter the value of the hour worked 22\n",
      "Enther the estimated deadline 3\n"
     ]
    },
    {
     "name": "stdout",
     "output_type": "stream",
     "text": [
      "The total value of the projetct is:  4400\n"
     ]
    }
   ],
   "source": [
    "project = input(\"Enter the name of the Project: \")\n",
    "hours = input(\"Enthe the number of hours planned for the Project: \")\n",
    "hour_worked = input(\"Enter the value of the hour worked\")\n",
    "deadline = input(\"Enther the estimated deadline\")\n",
    "total = int(hours) * int(hour_worked)\n",
    "print(\"The total value of the projetct is: \", total)"
   ]
  },
  {
   "cell_type": "markdown",
   "id": "521d53b5-38e6-42ca-b6c6-d81c579fca82",
   "metadata": {},
   "source": [
    "## Installing the PDF library\n",
    "pip install fpdf"
   ]
  },
  {
   "cell_type": "code",
   "execution_count": 2,
   "id": "ca52d51b-d4de-4b83-95db-eadf6c16d3ca",
   "metadata": {},
   "outputs": [
    {
     "name": "stdout",
     "output_type": "stream",
     "text": [
      "Requirement already satisfied: fpdf in /opt/homebrew/Cellar/jupyterlab/4.0.11/libexec/lib/python3.12/site-packages (1.7.2)\n",
      "\n",
      "\u001b[1m[\u001b[0m\u001b[34;49mnotice\u001b[0m\u001b[1;39;49m]\u001b[0m\u001b[39;49m A new release of pip is available: \u001b[0m\u001b[31;49m23.3.1\u001b[0m\u001b[39;49m -> \u001b[0m\u001b[32;49m23.3.2\u001b[0m\n",
      "\u001b[1m[\u001b[0m\u001b[34;49mnotice\u001b[0m\u001b[1;39;49m]\u001b[0m\u001b[39;49m To update, run: \u001b[0m\u001b[32;49m/opt/homebrew/Cellar/jupyterlab/4.0.11/libexec/bin/python -m pip install --upgrade pip\u001b[0m\n",
      "Note: you may need to restart the kernel to use updated packages.\n"
     ]
    }
   ],
   "source": [
    "pip install fpdf"
   ]
  },
  {
   "cell_type": "code",
   "execution_count": 5,
   "id": "85104044-f326-4890-8282-224dfa65f6c9",
   "metadata": {},
   "outputs": [
    {
     "name": "stdout",
     "output_type": "stream",
     "text": [
      "PDF generated successfully!!!\n"
     ]
    }
   ],
   "source": [
    "# using the library\n",
    "from fpdf import FPDF\n",
    "\n",
    "pdf = FPDF()\n",
    "pdf.add_page()\n",
    "pdf.set_font(\"Arial\")\n",
    "pdf.image(\"template.png\", x=0, y=0)\n",
    "pdf.text(115, 145, project)\n",
    "pdf.text(115, 160, hours)\n",
    "pdf.text(115, 175, hour_worked)\n",
    "pdf.text(115, 190, deadline)\n",
    "pdf.text(115, 205, str(total))\n",
    "pdf.output(\"Budget.pdf\")\n",
    "print(\"PDF generated successfully!!!\")"
   ]
  },
  {
   "cell_type": "code",
   "execution_count": null,
   "id": "48fccc89-8226-4eef-bfd7-2ede263aa7ba",
   "metadata": {},
   "outputs": [],
   "source": []
  }
 ],
 "metadata": {
  "kernelspec": {
   "display_name": "Python 3 (ipykernel)",
   "language": "python",
   "name": "python3"
  },
  "language_info": {
   "codemirror_mode": {
    "name": "ipython",
    "version": 3
   },
   "file_extension": ".py",
   "mimetype": "text/x-python",
   "name": "python",
   "nbconvert_exporter": "python",
   "pygments_lexer": "ipython3",
   "version": "3.12.1"
  }
 },
 "nbformat": 4,
 "nbformat_minor": 5
}
